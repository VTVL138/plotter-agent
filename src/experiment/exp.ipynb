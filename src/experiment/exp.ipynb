{
 "cells": [
  {
   "cell_type": "code",
   "execution_count": null,
   "id": "d5ca7799",
   "metadata": {},
   "outputs": [],
   "source": []
  },
  {
   "cell_type": "code",
   "execution_count": 1,
   "id": "b9cb6f4f",
   "metadata": {},
   "outputs": [],
   "source": [
    "import pandas as pd\n",
    "import numpy as np\n"
   ]
  },
  {
   "cell_type": "code",
   "execution_count": 6,
   "id": "23f2ed8a",
   "metadata": {},
   "outputs": [
    {
     "data": {
      "text/html": [
       "<div>\n",
       "<style scoped>\n",
       "    .dataframe tbody tr th:only-of-type {\n",
       "        vertical-align: middle;\n",
       "    }\n",
       "\n",
       "    .dataframe tbody tr th {\n",
       "        vertical-align: top;\n",
       "    }\n",
       "\n",
       "    .dataframe thead th {\n",
       "        text-align: right;\n",
       "    }\n",
       "</style>\n",
       "<table border=\"1\" class=\"dataframe\">\n",
       "  <thead>\n",
       "    <tr style=\"text-align: right;\">\n",
       "      <th></th>\n",
       "      <th>x</th>\n",
       "      <th>y</th>\n",
       "    </tr>\n",
       "  </thead>\n",
       "  <tbody>\n",
       "    <tr>\n",
       "      <th>0</th>\n",
       "      <td>0.000000</td>\n",
       "      <td>0.000000</td>\n",
       "    </tr>\n",
       "    <tr>\n",
       "      <th>1</th>\n",
       "      <td>2.040816</td>\n",
       "      <td>0.891559</td>\n",
       "    </tr>\n",
       "    <tr>\n",
       "      <th>2</th>\n",
       "      <td>4.081633</td>\n",
       "      <td>-0.807582</td>\n",
       "    </tr>\n",
       "    <tr>\n",
       "      <th>3</th>\n",
       "      <td>6.122449</td>\n",
       "      <td>-0.160045</td>\n",
       "    </tr>\n",
       "    <tr>\n",
       "      <th>4</th>\n",
       "      <td>8.163265</td>\n",
       "      <td>0.952552</td>\n",
       "    </tr>\n",
       "  </tbody>\n",
       "</table>\n",
       "</div>"
      ],
      "text/plain": [
       "          x         y\n",
       "0  0.000000  0.000000\n",
       "1  2.040816  0.891559\n",
       "2  4.081633 -0.807582\n",
       "3  6.122449 -0.160045\n",
       "4  8.163265  0.952552"
      ]
     },
     "execution_count": 6,
     "metadata": {},
     "output_type": "execute_result"
    }
   ],
   "source": [
    "x_arr = np.linspace(0,100)\n",
    "df = pd.DataFrame({\"x\":x_arr,\"y\":[np.sin(x) for x in x_arr]})\n",
    "# df.to_csv(\"../../test_files/test_file_sin.csv\",index=False)\n",
    "# df.to_excel(\"../../test_files/test_file_sin.xlsx\",index=False)\n",
    "\n",
    "df.head()"
   ]
  },
  {
   "cell_type": "code",
   "execution_count": 5,
   "id": "2cd755b8",
   "metadata": {},
   "outputs": [],
   "source": [
    "# with open(\"tmp.txt\",\"w\") as f:\n",
    "#     f.write(str(df))"
   ]
  },
  {
   "cell_type": "code",
   "execution_count": 11,
   "id": "a3ec826a",
   "metadata": {},
   "outputs": [],
   "source": [
    "import os\n",
    "\n",
    "def get_extension_from_filename(filename:str):\n",
    "    return os.path.splitext(filename)[-1][1:]"
   ]
  },
  {
   "cell_type": "code",
   "execution_count": 12,
   "id": "1cd22710",
   "metadata": {},
   "outputs": [
    {
     "data": {
      "text/plain": [
       "'txt'"
      ]
     },
     "execution_count": 12,
     "metadata": {},
     "output_type": "execute_result"
    }
   ],
   "source": [
    "get_extension_from_filename(\"tmp.csv.txt\")"
   ]
  },
  {
   "cell_type": "code",
   "execution_count": 10,
   "id": "a77cd19b",
   "metadata": {},
   "outputs": [
    {
     "name": "stdout",
     "output_type": "stream",
     "text": [
      "Die Sonne strahlt mit seiner Energie in alle Richtungen aus, aber die meiste davon wird zurückgeworfen nach oben. Dieses Strahlungsmuster erklärt, warum der Himmel blau aussieht.\n",
      "Die Sonne strahlt mit seiner Energie in alle Richtungen aus, aber die meiste davon wird zurückgeworfen nach oben. Dieses Strahlungsmuster erklärt, warum der Himmel blau aussieht.\n"
     ]
    }
   ],
   "source": [
    "from ollama import chat\n",
    "from ollama import ChatResponse\n",
    "\n",
    "response: ChatResponse = chat(model='codellama', messages=[{\n",
    "    'role': 'system',\n",
    "    'content': 'You can only write back in German.',\n",
    "  },\n",
    "  {\n",
    "    'role': 'user',\n",
    "    'content': 'Why is the sky blue?',\n",
    "  },\n",
    "])\n",
    "print(response['message']['content'])\n",
    "# or access fields directly from the response object\n",
    "print(response.message.content)"
   ]
  },
  {
   "cell_type": "code",
   "execution_count": null,
   "id": "522ee806",
   "metadata": {},
   "outputs": [],
   "source": []
  },
  {
   "cell_type": "code",
   "execution_count": 15,
   "id": "f37a0e7c",
   "metadata": {},
   "outputs": [],
   "source": [
    "import yaml\n",
    "with open(\"../../config/config.yaml\") as f:\n",
    "    cfg = yaml.load(f, Loader=yaml.FullLoader)"
   ]
  },
  {
   "cell_type": "code",
   "execution_count": 17,
   "id": "8d6e1386",
   "metadata": {},
   "outputs": [
    {
     "data": {
      "text/plain": [
       "{'coding_model_name': 'codellama',\n",
       " 'coding_model_instruction': 'You are an Large Language Model that generates python code to solve plotting and visualization problems, writing only in Python, and you only return valid code. No explanation just the pure runable code.'}"
      ]
     },
     "execution_count": 17,
     "metadata": {},
     "output_type": "execute_result"
    }
   ],
   "source": [
    "cfg"
   ]
  },
  {
   "cell_type": "code",
   "execution_count": null,
   "id": "e0a37aa3",
   "metadata": {},
   "outputs": [],
   "source": []
  },
  {
   "cell_type": "code",
   "execution_count": null,
   "id": "328cc750",
   "metadata": {},
   "outputs": [],
   "source": [
    "from models.plotting_agent import ChatWithOllama"
   ]
  },
  {
   "cell_type": "code",
   "execution_count": 4,
   "id": "dc5dadee",
   "metadata": {},
   "outputs": [],
   "source": [
    "chatbot = ChatWithOllama()\n",
    "response = chatbot.call_LLM(prompt=\"Write me a function that return all prime numbers under a number\")"
   ]
  },
  {
   "cell_type": "code",
   "execution_count": 32,
   "id": "41647bce",
   "metadata": {},
   "outputs": [
    {
     "data": {
      "text/plain": [
       "True"
      ]
     },
     "execution_count": 32,
     "metadata": {},
     "output_type": "execute_result"
    }
   ],
   "source": [
    "response[0] == \"`\""
   ]
  },
  {
   "cell_type": "code",
   "execution_count": 33,
   "id": "d110976f",
   "metadata": {},
   "outputs": [
    {
     "data": {
      "text/plain": [
       "'```python\\ndef get_prime_numbers(n):\\n    prime_numbers = []\\n    for i in range(2, n+1):\\n        if i > 1:\\n            for j in range(2, i):\\n                if i % j == 0:\\n                    break\\n            else:\\n                prime_numbers.append(i)\\n    return prime_numbers\\n```'"
      ]
     },
     "execution_count": 33,
     "metadata": {},
     "output_type": "execute_result"
    }
   ],
   "source": [
    "response"
   ]
  },
  {
   "cell_type": "code",
   "execution_count": 40,
   "id": "83c2e435",
   "metadata": {},
   "outputs": [
    {
     "data": {
      "text/plain": [
       "'\\ndef get_prime_numbers(n):\\n    prime_numbers = []\\n    for i in range(2, n+1):\\n        if i > 1:\\n            for j in range(2, i):\\n                if i % j == 0:\\n                    break\\n            else:\\n                prime_numbers.append(i)\\n    return prime_numbers'"
      ]
     },
     "execution_count": 40,
     "metadata": {},
     "output_type": "execute_result"
    }
   ],
   "source": [
    "re.search(r\"```python([\\s\\S]*?)\\n```\",response).group(1)"
   ]
  },
  {
   "cell_type": "code",
   "execution_count": null,
   "id": "c317a14b",
   "metadata": {},
   "outputs": [],
   "source": []
  }
 ],
 "metadata": {
  "kernelspec": {
   "display_name": ".venv",
   "language": "python",
   "name": "python3"
  },
  "language_info": {
   "codemirror_mode": {
    "name": "ipython",
    "version": 3
   },
   "file_extension": ".py",
   "mimetype": "text/x-python",
   "name": "python",
   "nbconvert_exporter": "python",
   "pygments_lexer": "ipython3",
   "version": "3.13.2"
  }
 },
 "nbformat": 4,
 "nbformat_minor": 5
}
